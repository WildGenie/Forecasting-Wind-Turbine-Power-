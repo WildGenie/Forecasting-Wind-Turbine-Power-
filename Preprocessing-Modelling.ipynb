{
 "cells": [
  {
   "cell_type": "code",
   "execution_count": 22,
   "metadata": {},
   "outputs": [
    {
     "data": {
      "text/plain": [
       "('pandas version: ',\n",
       " '1.4.1',\n",
       " 'numpy version: ',\n",
       " '1.21.2',\n",
       " 'seaborn version: ',\n",
       " '0.11.2',\n",
       " 'matplotlib version: ',\n",
       " '3.4.3',\n",
       " 'tensorflow.keras version: ',\n",
       " '2.8.0')"
      ]
     },
     "execution_count": 22,
     "metadata": {},
     "output_type": "execute_result"
    }
   ],
   "source": [
    "import pandas as pd\n",
    "import numpy as np\n",
    "import seaborn as sns\n",
    "import matplotlib.pyplot as plt\n",
    "import matplotlib as mpl\n",
    "from tensorflow import keras\n",
    "from sklearn.preprocessing import MinMaxScaler\n",
    "from sklearn.model_selection import RandomizedSearchCV, TimeSeriesSplit\n",
    "from sklearn.metrics import mean_squared_error, mean_absolute_error, r2_score\n",
    "from tensorflow.keras.layers import LSTM, Dense, Dropout\n",
    "from tensorflow.keras.callbacks import EarlyStopping \n",
    "from tensorflow.keras.wrappers.scikit_learn import KerasRegressor\n",
    "\n",
    "\"pandas version: \", pd.__version__ , \"numpy version: \", np.__version__, \"seaborn version: \", sns.__version__, \"matplotlib version: \", mpl.__version__, \"tensorflow.keras version: \", keras.__version__"
   ]
  },
  {
   "cell_type": "code",
   "execution_count": 2,
   "metadata": {},
   "outputs": [
    {
     "data": {
      "text/html": [
       "<div>\n",
       "<style scoped>\n",
       "    .dataframe tbody tr th:only-of-type {\n",
       "        vertical-align: middle;\n",
       "    }\n",
       "\n",
       "    .dataframe tbody tr th {\n",
       "        vertical-align: top;\n",
       "    }\n",
       "\n",
       "    .dataframe thead th {\n",
       "        text-align: right;\n",
       "    }\n",
       "</style>\n",
       "<table border=\"1\" class=\"dataframe\">\n",
       "  <thead>\n",
       "    <tr style=\"text-align: right;\">\n",
       "      <th></th>\n",
       "      <th>Power</th>\n",
       "      <th>Wind_speed</th>\n",
       "      <th>Theoretical_power</th>\n",
       "      <th>Loss</th>\n",
       "      <th>x_com</th>\n",
       "      <th>y_com</th>\n",
       "      <th>T_1</th>\n",
       "    </tr>\n",
       "    <tr>\n",
       "      <th>Date/Time</th>\n",
       "      <th></th>\n",
       "      <th></th>\n",
       "      <th></th>\n",
       "      <th></th>\n",
       "      <th></th>\n",
       "      <th></th>\n",
       "      <th></th>\n",
       "    </tr>\n",
       "  </thead>\n",
       "  <tbody>\n",
       "    <tr>\n",
       "      <th>2018-01-01 01:00:00</th>\n",
       "      <td>460.537125</td>\n",
       "      <td>5.644205</td>\n",
       "      <td>513.418408</td>\n",
       "      <td>52.881284</td>\n",
       "      <td>-1.068567</td>\n",
       "      <td>-5.515860</td>\n",
       "      <td>390.480362</td>\n",
       "    </tr>\n",
       "    <tr>\n",
       "      <th>2018-01-01 02:00:00</th>\n",
       "      <td>733.655375</td>\n",
       "      <td>6.452037</td>\n",
       "      <td>788.401310</td>\n",
       "      <td>54.745935</td>\n",
       "      <td>-0.176225</td>\n",
       "      <td>-6.440522</td>\n",
       "      <td>460.537125</td>\n",
       "    </tr>\n",
       "    <tr>\n",
       "      <th>2018-01-01 03:00:00</th>\n",
       "      <td>909.362081</td>\n",
       "      <td>6.811455</td>\n",
       "      <td>948.793346</td>\n",
       "      <td>39.431265</td>\n",
       "      <td>-1.652917</td>\n",
       "      <td>-6.596464</td>\n",
       "      <td>733.655375</td>\n",
       "    </tr>\n",
       "    <tr>\n",
       "      <th>2018-01-01 04:00:00</th>\n",
       "      <td>1393.518188</td>\n",
       "      <td>7.748749</td>\n",
       "      <td>1406.391795</td>\n",
       "      <td>12.873607</td>\n",
       "      <td>-2.912491</td>\n",
       "      <td>-7.138868</td>\n",
       "      <td>909.362081</td>\n",
       "    </tr>\n",
       "    <tr>\n",
       "      <th>2018-01-01 05:00:00</th>\n",
       "      <td>1149.599162</td>\n",
       "      <td>7.236854</td>\n",
       "      <td>1128.194441</td>\n",
       "      <td>-21.404721</td>\n",
       "      <td>-3.170687</td>\n",
       "      <td>-6.478943</td>\n",
       "      <td>1393.518188</td>\n",
       "    </tr>\n",
       "  </tbody>\n",
       "</table>\n",
       "</div>"
      ],
      "text/plain": [
       "                           Power  Wind_speed  Theoretical_power       Loss  \\\n",
       "Date/Time                                                                    \n",
       "2018-01-01 01:00:00   460.537125    5.644205         513.418408  52.881284   \n",
       "2018-01-01 02:00:00   733.655375    6.452037         788.401310  54.745935   \n",
       "2018-01-01 03:00:00   909.362081    6.811455         948.793346  39.431265   \n",
       "2018-01-01 04:00:00  1393.518188    7.748749        1406.391795  12.873607   \n",
       "2018-01-01 05:00:00  1149.599162    7.236854        1128.194441 -21.404721   \n",
       "\n",
       "                        x_com     y_com          T_1  \n",
       "Date/Time                                             \n",
       "2018-01-01 01:00:00 -1.068567 -5.515860   390.480362  \n",
       "2018-01-01 02:00:00 -0.176225 -6.440522   460.537125  \n",
       "2018-01-01 03:00:00 -1.652917 -6.596464   733.655375  \n",
       "2018-01-01 04:00:00 -2.912491 -7.138868   909.362081  \n",
       "2018-01-01 05:00:00 -3.170687 -6.478943  1393.518188  "
      ]
     },
     "execution_count": 2,
     "metadata": {},
     "output_type": "execute_result"
    }
   ],
   "source": [
    "#read in data\n",
    "df = pd.read_csv('data/hourly_nm.csv',index_col='Date/Time')\n",
    "df.head()"
   ]
  },
  {
   "cell_type": "code",
   "execution_count": 3,
   "metadata": {},
   "outputs": [
    {
     "name": "stdout",
     "output_type": "stream",
     "text": [
      "<class 'pandas.core.frame.DataFrame'>\n",
      "Index: 8759 entries, 2018-01-01 01:00:00 to 2018-12-31 23:00:00\n",
      "Data columns (total 7 columns):\n",
      " #   Column             Non-Null Count  Dtype  \n",
      "---  ------             --------------  -----  \n",
      " 0   Power              8759 non-null   float64\n",
      " 1   Wind_speed         8759 non-null   float64\n",
      " 2   Theoretical_power  8759 non-null   float64\n",
      " 3   Loss               8759 non-null   float64\n",
      " 4   x_com              8759 non-null   float64\n",
      " 5   y_com              8759 non-null   float64\n",
      " 6   T_1                8759 non-null   float64\n",
      "dtypes: float64(7)\n",
      "memory usage: 547.4+ KB\n",
      "None\n",
      "\n",
      "             Power   Wind_speed  Theoretical_power         Loss        x_com  \\\n",
      "count  8759.000000  8759.000000        8759.000000  8759.000000  8759.000000   \n",
      "mean   1318.141216     7.463044        1477.300912   159.159695     0.425291   \n",
      "std    1272.154339     4.161819        1334.998877   316.032952     6.453773   \n",
      "min      -0.179522     0.000000           0.000000  -342.198605   -23.562965   \n",
      "25%     131.945762     4.157298         191.685944     6.803021    -2.339228   \n",
      "50%     887.976049     7.044580        1084.711233    70.070597     1.930152   \n",
      "75%    2413.847412    10.135154        2818.334982   185.948800     4.733412   \n",
      "max    3604.410034    23.746877        3600.000000  3239.191602    15.928531   \n",
      "\n",
      "             y_com          T_1  \n",
      "count  8759.000000  8759.000000  \n",
      "mean      2.132712  1317.887059  \n",
      "std       5.098658  1272.117264  \n",
      "min     -14.872894    -0.179522  \n",
      "25%      -1.661516   131.945762  \n",
      "50%       2.376810   887.463231  \n",
      "75%       5.838316  2412.657420  \n",
      "max      15.552038  3604.410034  \n"
     ]
    }
   ],
   "source": [
    "print(df.info())\n",
    "print()\n",
    "print(df.describe())"
   ]
  },
  {
   "cell_type": "code",
   "execution_count": 4,
   "metadata": {},
   "outputs": [],
   "source": [
    "#split data into training and testing, testing data will be one month\n",
    "start_test = '2018-11-31'\n",
    "\n",
    "train, test = df.loc[:start_test], df.loc[start_test:]"
   ]
  },
  {
   "cell_type": "code",
   "execution_count": 5,
   "metadata": {},
   "outputs": [
    {
     "data": {
      "text/html": [
       "<div>\n",
       "<style scoped>\n",
       "    .dataframe tbody tr th:only-of-type {\n",
       "        vertical-align: middle;\n",
       "    }\n",
       "\n",
       "    .dataframe tbody tr th {\n",
       "        vertical-align: top;\n",
       "    }\n",
       "\n",
       "    .dataframe thead th {\n",
       "        text-align: right;\n",
       "    }\n",
       "</style>\n",
       "<table border=\"1\" class=\"dataframe\">\n",
       "  <thead>\n",
       "    <tr style=\"text-align: right;\">\n",
       "      <th></th>\n",
       "      <th>Power</th>\n",
       "      <th>Wind_speed</th>\n",
       "      <th>Theoretical_power</th>\n",
       "      <th>Loss</th>\n",
       "      <th>x_com</th>\n",
       "      <th>y_com</th>\n",
       "      <th>T_1</th>\n",
       "    </tr>\n",
       "    <tr>\n",
       "      <th>Date/Time</th>\n",
       "      <th></th>\n",
       "      <th></th>\n",
       "      <th></th>\n",
       "      <th></th>\n",
       "      <th></th>\n",
       "      <th></th>\n",
       "      <th></th>\n",
       "    </tr>\n",
       "  </thead>\n",
       "  <tbody>\n",
       "    <tr>\n",
       "      <th>2018-11-30 23:00:00</th>\n",
       "      <td>87.315742</td>\n",
       "      <td>5.643659</td>\n",
       "      <td>516.885226</td>\n",
       "      <td>429.569483</td>\n",
       "      <td>3.995407</td>\n",
       "      <td>3.978305</td>\n",
       "      <td>231.796605</td>\n",
       "    </tr>\n",
       "  </tbody>\n",
       "</table>\n",
       "</div>"
      ],
      "text/plain": [
       "                         Power  Wind_speed  Theoretical_power        Loss  \\\n",
       "Date/Time                                                                   \n",
       "2018-11-30 23:00:00  87.315742    5.643659         516.885226  429.569483   \n",
       "\n",
       "                        x_com     y_com         T_1  \n",
       "Date/Time                                            \n",
       "2018-11-30 23:00:00  3.995407  3.978305  231.796605  "
      ]
     },
     "execution_count": 5,
     "metadata": {},
     "output_type": "execute_result"
    }
   ],
   "source": [
    "train.tail(1)"
   ]
  },
  {
   "cell_type": "code",
   "execution_count": 6,
   "metadata": {},
   "outputs": [
    {
     "data": {
      "text/html": [
       "<div>\n",
       "<style scoped>\n",
       "    .dataframe tbody tr th:only-of-type {\n",
       "        vertical-align: middle;\n",
       "    }\n",
       "\n",
       "    .dataframe tbody tr th {\n",
       "        vertical-align: top;\n",
       "    }\n",
       "\n",
       "    .dataframe thead th {\n",
       "        text-align: right;\n",
       "    }\n",
       "</style>\n",
       "<table border=\"1\" class=\"dataframe\">\n",
       "  <thead>\n",
       "    <tr style=\"text-align: right;\">\n",
       "      <th></th>\n",
       "      <th>Power</th>\n",
       "      <th>Wind_speed</th>\n",
       "      <th>Theoretical_power</th>\n",
       "      <th>Loss</th>\n",
       "      <th>x_com</th>\n",
       "      <th>y_com</th>\n",
       "      <th>T_1</th>\n",
       "    </tr>\n",
       "    <tr>\n",
       "      <th>Date/Time</th>\n",
       "      <th></th>\n",
       "      <th></th>\n",
       "      <th></th>\n",
       "      <th></th>\n",
       "      <th></th>\n",
       "      <th></th>\n",
       "      <th></th>\n",
       "    </tr>\n",
       "  </thead>\n",
       "  <tbody>\n",
       "    <tr>\n",
       "      <th>2018-12-01 00:00:00</th>\n",
       "      <td>280.210704</td>\n",
       "      <td>4.57214</td>\n",
       "      <td>281.809039</td>\n",
       "      <td>1.598335</td>\n",
       "      <td>-2.893603</td>\n",
       "      <td>-3.518642</td>\n",
       "      <td>87.315742</td>\n",
       "    </tr>\n",
       "  </tbody>\n",
       "</table>\n",
       "</div>"
      ],
      "text/plain": [
       "                          Power  Wind_speed  Theoretical_power      Loss  \\\n",
       "Date/Time                                                                  \n",
       "2018-12-01 00:00:00  280.210704     4.57214         281.809039  1.598335   \n",
       "\n",
       "                        x_com     y_com        T_1  \n",
       "Date/Time                                           \n",
       "2018-12-01 00:00:00 -2.893603 -3.518642  87.315742  "
      ]
     },
     "execution_count": 6,
     "metadata": {},
     "output_type": "execute_result"
    }
   ],
   "source": [
    "test.head(1)"
   ]
  },
  {
   "cell_type": "code",
   "execution_count": 7,
   "metadata": {},
   "outputs": [
    {
     "name": "stdout",
     "output_type": "stream",
     "text": [
      "8015\n",
      "744\n"
     ]
    }
   ],
   "source": [
    "print(len(train))\n",
    "print(len(test))"
   ]
  },
  {
   "cell_type": "code",
   "execution_count": 8,
   "metadata": {},
   "outputs": [],
   "source": [
    "# scale the data using MinMax Scaler from -1 to 1 as LSTM has a default tanh activation function\n",
    "SCALER = MinMaxScaler(feature_range=(-1,1))\n",
    "\n",
    "scaler = SCALER.fit(train.to_numpy())\n",
    "\n",
    "train_scaled = scaler.transform(train.to_numpy())\n",
    "test_scaled = scaler.transform(test.to_numpy())"
   ]
  },
  {
   "cell_type": "code",
   "execution_count": 9,
   "metadata": {},
   "outputs": [],
   "source": [
    "# create a function to split the datasets into two week windows\n",
    "timestep = 24*7*2 # 24hours,7days,2weeks\n",
    "\n",
    "def create_dataset(dataset, timestep=timestep):\n",
    "    \"\"\"\n",
    "    Function which creates two week chunks of x_train data, and a single\n",
    "    value for y_train.\n",
    "    \"\"\"\n",
    "    X, y = [], []\n",
    "    for i in range(len(dataset)):\n",
    "        target_value = i + timestep\n",
    "        if target_value == len(dataset):\n",
    "            break\n",
    "        feature_chunk, target = dataset[i:target_value, 1:], dataset[target_value, 0]\n",
    "        X.append(feature_chunk)\n",
    "        y.append(target)\n",
    "    \n",
    "    return np.array(X), np.array(y) "
   ]
  },
  {
   "cell_type": "code",
   "execution_count": 10,
   "metadata": {},
   "outputs": [],
   "source": [
    "#create x_train, y_train, X_test,y_test\n",
    "X_train, y_train = create_dataset(train_scaled)\n",
    "X_test, y_test = create_dataset(test_scaled)"
   ]
  },
  {
   "cell_type": "code",
   "execution_count": 11,
   "metadata": {},
   "outputs": [
    {
     "name": "stdout",
     "output_type": "stream",
     "text": [
      "(7679, 336, 6)\n",
      "(7679,)\n",
      "(408, 336, 6)\n",
      "(408,)\n"
     ]
    }
   ],
   "source": [
    "print(X_train.shape)\n",
    "print(y_train.shape)\n",
    "print(X_test.shape)\n",
    "print(y_test.shape)"
   ]
  },
  {
   "cell_type": "code",
   "execution_count": 12,
   "metadata": {},
   "outputs": [],
   "source": [
    "# use sample of th data to train network to have a rough understanding of hyperparameters\n",
    "samp_len = int(len(X_train)*0.5)\n",
    "\n",
    "X_sample_train, y_sample_train = X_train[:samp_len], y_train[:samp_len]"
   ]
  },
  {
   "cell_type": "code",
   "execution_count": 13,
   "metadata": {},
   "outputs": [
    {
     "name": "stdout",
     "output_type": "stream",
     "text": [
      "(3839, 336, 6)\n",
      "(3839,)\n"
     ]
    }
   ],
   "source": [
    "print(X_sample_train.shape)\n",
    "print(y_sample_train.shape)"
   ]
  },
  {
   "cell_type": "code",
   "execution_count": 14,
   "metadata": {},
   "outputs": [],
   "source": [
    "# create X_train, y_train, X_test, y_test datasets\n",
    "# create a function to build a stacked LSTM model\n",
    "# input needs to be [samples, timesteps, features]\n",
    "def create_model(X_train, y_train):\n",
    "        units = 32\n",
    "        dropout = 0.05\n",
    "        epochs = 5\n",
    "        batch_size = 14\n",
    "        optimizer = keras.optimizers.Adam(learning_rate=0.0005)\n",
    "        early_stopping = EarlyStopping(patience=7, monitor='loss')\n",
    "\n",
    "        model = keras.Sequential()\n",
    "\n",
    "        model.add(LSTM(units=units, dropout=dropout, return_sequences=True,\n",
    "                       input_shape=(X_train.shape[1], X_train.shape[2])))\n",
    "        \n",
    "        model.add(LSTM(units=units, dropout=dropout))\n",
    "        \n",
    "        model.add(Dense(units=1))\n",
    "\n",
    "        model.compile(optimizer=optimizer, loss='mean_squared_error')\n",
    "        history = model.fit(X_train, y_train, validation_split=0.3, shuffle=False,\n",
    "                  epochs=epochs, batch_size=batch_size, verbose=1, callbacks=[early_stopping])\n",
    "       \n",
    "        return model, history"
   ]
  },
  {
   "cell_type": "code",
   "execution_count": 15,
   "metadata": {},
   "outputs": [],
   "source": [
    "# function to predict a single value \n",
    "def single_prediction(model, history, timestep=timestep):\n",
    "        \n",
    "        history = np.array(history)\n",
    "        history = history.reshape(history.shape[0]*history.shape[1], history.shape[2])\n",
    "        \n",
    "        input_value = history[-timestep:]\n",
    "        input_value = input_value.reshape(1, input_value.shape[0], input_value.shape[1])\n",
    "        \n",
    "        yhat = model.predict(input_value, verbose=0)\n",
    "        return yhat"
   ]
  },
  {
   "cell_type": "code",
   "execution_count": 16,
   "metadata": {},
   "outputs": [],
   "source": [
    "# function which takes first test chunk, makes a prediction, add the test chunk back into training data \n",
    "#to make next prediction\n",
    "\n",
    "def walk_forward_prediction(X_train, y_train, X_test, timestep):\n",
    "    \n",
    "    MODEL, history = create_model(X_train=X_train, y_train=y_train)\n",
    "    hist_train = [i for i in X_train]\n",
    "    predictions = []\n",
    "    \n",
    "    for i in range(len(X_test)):\n",
    "        test = X_test[i]\n",
    "        yhat = single_prediction(model=MODEL, history=hist_train, timestep=timestep)\n",
    "        predictions.append(yhat) \n",
    "        hist_train.append(test)\n",
    "    \n",
    "    return predictions, history, MODEL"
   ]
  },
  {
   "cell_type": "code",
   "execution_count": 17,
   "metadata": {},
   "outputs": [],
   "source": [
    "def prior_inverse(features, targets):\n",
    "    '''\n",
    "    Append prediction value to test dataset and return a test shape format.\n",
    "    '''\n",
    "    dataset = []\n",
    "    \n",
    "    for i in range(features.shape[0]):\n",
    "        last_row, target = features[i][0], targets[i]\n",
    "        appended = np.append(last_row, target)\n",
    "        dataset.append(appended)\n",
    "    \n",
    "    return np.array(dataset) "
   ]
  },
  {
   "cell_type": "code",
   "execution_count": 18,
   "metadata": {
    "scrolled": true
   },
   "outputs": [],
   "source": [
    "#run experiemnt returning the real, predicted values\n",
    "def experiment(X_train, y_train, X_test, timestep):\n",
    "    \n",
    "    pred_seq, history, MODEL = walk_forward_prediction(X_train, y_train, X_test, timestep)\n",
    "    \n",
    "    pred_seq = np.array(pred_seq).reshape(-1)\n",
    "\n",
    "    pred = prior_inverse(X_test, pred_seq)\n",
    "    real = prior_inverse(X_test, y_test)\n",
    "\n",
    "    inv_pred = scaler.inverse_transform(pred)\n",
    "    inv_real = scaler.inverse_transform(real)\n",
    "\n",
    "    power_pred = inv_pred[:,-1]\n",
    "    power_real = inv_real[:,-1]\n",
    "    \n",
    "    return power_real, power_pred, history, MODEL"
   ]
  },
  {
   "cell_type": "code",
   "execution_count": 19,
   "metadata": {
    "scrolled": true
   },
   "outputs": [
    {
     "ename": "TypeError",
     "evalue": "Exception encountered when calling layer \"lstm\" (type LSTM).\n\n\n\nCall arguments received:\n  • inputs=tf.Tensor(shape=(None, 336, 6), dtype=float32)\n  • mask=None\n  • training=None\n  • initial_state=None",
     "output_type": "error",
     "traceback": [
      "\u001b[0;31m---------------------------------------------------------------------------\u001b[0m",
      "\u001b[0;31mTypeError\u001b[0m                                 Traceback (most recent call last)",
      "\u001b[0;32m<ipython-input-19-69c9d2384226>\u001b[0m in \u001b[0;36m<module>\u001b[0;34m\u001b[0m\n\u001b[0;32m----> 1\u001b[0;31m \u001b[0mpower_real\u001b[0m\u001b[0;34m,\u001b[0m \u001b[0mpower_pred\u001b[0m\u001b[0;34m,\u001b[0m \u001b[0mhistory\u001b[0m\u001b[0;34m,\u001b[0m \u001b[0mMODEL\u001b[0m \u001b[0;34m=\u001b[0m \u001b[0mexperiment\u001b[0m\u001b[0;34m(\u001b[0m\u001b[0mX_train\u001b[0m\u001b[0;34m,\u001b[0m \u001b[0my_train\u001b[0m\u001b[0;34m,\u001b[0m \u001b[0mX_test\u001b[0m\u001b[0;34m,\u001b[0m \u001b[0mtimestep\u001b[0m\u001b[0;34m)\u001b[0m\u001b[0;34m\u001b[0m\u001b[0;34m\u001b[0m\u001b[0m\n\u001b[0m\u001b[1;32m      2\u001b[0m \u001b[0;34m\u001b[0m\u001b[0m\n\u001b[1;32m      3\u001b[0m \u001b[0mloss\u001b[0m \u001b[0;34m=\u001b[0m \u001b[0mhistory\u001b[0m\u001b[0;34m.\u001b[0m\u001b[0mhistory\u001b[0m\u001b[0;34m[\u001b[0m\u001b[0;34m'loss'\u001b[0m\u001b[0;34m]\u001b[0m\u001b[0;34m\u001b[0m\u001b[0;34m\u001b[0m\u001b[0m\n\u001b[1;32m      4\u001b[0m \u001b[0mval_loss\u001b[0m \u001b[0;34m=\u001b[0m \u001b[0mhistory\u001b[0m\u001b[0;34m.\u001b[0m\u001b[0mhistory\u001b[0m\u001b[0;34m[\u001b[0m\u001b[0;34m'val_loss'\u001b[0m\u001b[0;34m]\u001b[0m\u001b[0;34m\u001b[0m\u001b[0;34m\u001b[0m\u001b[0m\n",
      "\u001b[0;32m<ipython-input-18-b594ad98ff17>\u001b[0m in \u001b[0;36mexperiment\u001b[0;34m(X_train, y_train, X_test, timestep)\u001b[0m\n\u001b[1;32m      2\u001b[0m \u001b[0;32mdef\u001b[0m \u001b[0mexperiment\u001b[0m\u001b[0;34m(\u001b[0m\u001b[0mX_train\u001b[0m\u001b[0;34m,\u001b[0m \u001b[0my_train\u001b[0m\u001b[0;34m,\u001b[0m \u001b[0mX_test\u001b[0m\u001b[0;34m,\u001b[0m \u001b[0mtimestep\u001b[0m\u001b[0;34m)\u001b[0m\u001b[0;34m:\u001b[0m\u001b[0;34m\u001b[0m\u001b[0;34m\u001b[0m\u001b[0m\n\u001b[1;32m      3\u001b[0m \u001b[0;34m\u001b[0m\u001b[0m\n\u001b[0;32m----> 4\u001b[0;31m     \u001b[0mpred_seq\u001b[0m\u001b[0;34m,\u001b[0m \u001b[0mhistory\u001b[0m\u001b[0;34m,\u001b[0m \u001b[0mMODEL\u001b[0m \u001b[0;34m=\u001b[0m \u001b[0mwalk_forward_prediction\u001b[0m\u001b[0;34m(\u001b[0m\u001b[0mX_train\u001b[0m\u001b[0;34m,\u001b[0m \u001b[0my_train\u001b[0m\u001b[0;34m,\u001b[0m \u001b[0mX_test\u001b[0m\u001b[0;34m,\u001b[0m \u001b[0mtimestep\u001b[0m\u001b[0;34m)\u001b[0m\u001b[0;34m\u001b[0m\u001b[0;34m\u001b[0m\u001b[0m\n\u001b[0m\u001b[1;32m      5\u001b[0m \u001b[0;34m\u001b[0m\u001b[0m\n\u001b[1;32m      6\u001b[0m     \u001b[0mpred_seq\u001b[0m \u001b[0;34m=\u001b[0m \u001b[0mnp\u001b[0m\u001b[0;34m.\u001b[0m\u001b[0marray\u001b[0m\u001b[0;34m(\u001b[0m\u001b[0mpred_seq\u001b[0m\u001b[0;34m)\u001b[0m\u001b[0;34m.\u001b[0m\u001b[0mreshape\u001b[0m\u001b[0;34m(\u001b[0m\u001b[0;34m-\u001b[0m\u001b[0;36m1\u001b[0m\u001b[0;34m)\u001b[0m\u001b[0;34m\u001b[0m\u001b[0;34m\u001b[0m\u001b[0m\n",
      "\u001b[0;32m<ipython-input-16-d86369d8f09e>\u001b[0m in \u001b[0;36mwalk_forward_prediction\u001b[0;34m(X_train, y_train, X_test, timestep)\u001b[0m\n\u001b[1;32m      4\u001b[0m \u001b[0;32mdef\u001b[0m \u001b[0mwalk_forward_prediction\u001b[0m\u001b[0;34m(\u001b[0m\u001b[0mX_train\u001b[0m\u001b[0;34m,\u001b[0m \u001b[0my_train\u001b[0m\u001b[0;34m,\u001b[0m \u001b[0mX_test\u001b[0m\u001b[0;34m,\u001b[0m \u001b[0mtimestep\u001b[0m\u001b[0;34m)\u001b[0m\u001b[0;34m:\u001b[0m\u001b[0;34m\u001b[0m\u001b[0;34m\u001b[0m\u001b[0m\n\u001b[1;32m      5\u001b[0m \u001b[0;34m\u001b[0m\u001b[0m\n\u001b[0;32m----> 6\u001b[0;31m     \u001b[0mMODEL\u001b[0m\u001b[0;34m,\u001b[0m \u001b[0mhistory\u001b[0m \u001b[0;34m=\u001b[0m \u001b[0mcreate_model\u001b[0m\u001b[0;34m(\u001b[0m\u001b[0mX_train\u001b[0m\u001b[0;34m=\u001b[0m\u001b[0mX_train\u001b[0m\u001b[0;34m,\u001b[0m \u001b[0my_train\u001b[0m\u001b[0;34m=\u001b[0m\u001b[0my_train\u001b[0m\u001b[0;34m)\u001b[0m\u001b[0;34m\u001b[0m\u001b[0;34m\u001b[0m\u001b[0m\n\u001b[0m\u001b[1;32m      7\u001b[0m     \u001b[0mhist_train\u001b[0m \u001b[0;34m=\u001b[0m \u001b[0;34m[\u001b[0m\u001b[0mi\u001b[0m \u001b[0;32mfor\u001b[0m \u001b[0mi\u001b[0m \u001b[0;32min\u001b[0m \u001b[0mX_train\u001b[0m\u001b[0;34m]\u001b[0m\u001b[0;34m\u001b[0m\u001b[0;34m\u001b[0m\u001b[0m\n\u001b[1;32m      8\u001b[0m     \u001b[0mpredictions\u001b[0m \u001b[0;34m=\u001b[0m \u001b[0;34m[\u001b[0m\u001b[0;34m]\u001b[0m\u001b[0;34m\u001b[0m\u001b[0;34m\u001b[0m\u001b[0m\n",
      "\u001b[0;32m<ipython-input-14-7728b2542dcf>\u001b[0m in \u001b[0;36mcreate_model\u001b[0;34m(X_train, y_train)\u001b[0m\n\u001b[1;32m     12\u001b[0m         \u001b[0mmodel\u001b[0m \u001b[0;34m=\u001b[0m \u001b[0mkeras\u001b[0m\u001b[0;34m.\u001b[0m\u001b[0mSequential\u001b[0m\u001b[0;34m(\u001b[0m\u001b[0;34m)\u001b[0m\u001b[0;34m\u001b[0m\u001b[0;34m\u001b[0m\u001b[0m\n\u001b[1;32m     13\u001b[0m \u001b[0;34m\u001b[0m\u001b[0m\n\u001b[0;32m---> 14\u001b[0;31m         model.add(LSTM(units=units, dropout=dropout, return_sequences=True,\n\u001b[0m\u001b[1;32m     15\u001b[0m                        input_shape=(X_train.shape[1], X_train.shape[2])))\n\u001b[1;32m     16\u001b[0m \u001b[0;34m\u001b[0m\u001b[0m\n",
      "\u001b[0;32m/anaconda/envs/azureml_py38_PT_TF/lib/python3.8/site-packages/tensorflow/python/training/tracking/base.py\u001b[0m in \u001b[0;36m_method_wrapper\u001b[0;34m(self, *args, **kwargs)\u001b[0m\n\u001b[1;32m    627\u001b[0m     \u001b[0mself\u001b[0m\u001b[0;34m.\u001b[0m\u001b[0m_self_setattr_tracking\u001b[0m \u001b[0;34m=\u001b[0m \u001b[0;32mFalse\u001b[0m  \u001b[0;31m# pylint: disable=protected-access\u001b[0m\u001b[0;34m\u001b[0m\u001b[0;34m\u001b[0m\u001b[0m\n\u001b[1;32m    628\u001b[0m     \u001b[0;32mtry\u001b[0m\u001b[0;34m:\u001b[0m\u001b[0;34m\u001b[0m\u001b[0;34m\u001b[0m\u001b[0m\n\u001b[0;32m--> 629\u001b[0;31m       \u001b[0mresult\u001b[0m \u001b[0;34m=\u001b[0m \u001b[0mmethod\u001b[0m\u001b[0;34m(\u001b[0m\u001b[0mself\u001b[0m\u001b[0;34m,\u001b[0m \u001b[0;34m*\u001b[0m\u001b[0margs\u001b[0m\u001b[0;34m,\u001b[0m \u001b[0;34m**\u001b[0m\u001b[0mkwargs\u001b[0m\u001b[0;34m)\u001b[0m\u001b[0;34m\u001b[0m\u001b[0;34m\u001b[0m\u001b[0m\n\u001b[0m\u001b[1;32m    630\u001b[0m     \u001b[0;32mfinally\u001b[0m\u001b[0;34m:\u001b[0m\u001b[0;34m\u001b[0m\u001b[0;34m\u001b[0m\u001b[0m\n\u001b[1;32m    631\u001b[0m       \u001b[0mself\u001b[0m\u001b[0;34m.\u001b[0m\u001b[0m_self_setattr_tracking\u001b[0m \u001b[0;34m=\u001b[0m \u001b[0mprevious_value\u001b[0m  \u001b[0;31m# pylint: disable=protected-access\u001b[0m\u001b[0;34m\u001b[0m\u001b[0;34m\u001b[0m\u001b[0m\n",
      "\u001b[0;32m/anaconda/envs/azureml_py38_PT_TF/lib/python3.8/site-packages/keras/utils/traceback_utils.py\u001b[0m in \u001b[0;36merror_handler\u001b[0;34m(*args, **kwargs)\u001b[0m\n\u001b[1;32m     65\u001b[0m     \u001b[0;32mexcept\u001b[0m \u001b[0mException\u001b[0m \u001b[0;32mas\u001b[0m \u001b[0me\u001b[0m\u001b[0;34m:\u001b[0m  \u001b[0;31m# pylint: disable=broad-except\u001b[0m\u001b[0;34m\u001b[0m\u001b[0;34m\u001b[0m\u001b[0m\n\u001b[1;32m     66\u001b[0m       \u001b[0mfiltered_tb\u001b[0m \u001b[0;34m=\u001b[0m \u001b[0m_process_traceback_frames\u001b[0m\u001b[0;34m(\u001b[0m\u001b[0me\u001b[0m\u001b[0;34m.\u001b[0m\u001b[0m__traceback__\u001b[0m\u001b[0;34m)\u001b[0m\u001b[0;34m\u001b[0m\u001b[0;34m\u001b[0m\u001b[0m\n\u001b[0;32m---> 67\u001b[0;31m       \u001b[0;32mraise\u001b[0m \u001b[0me\u001b[0m\u001b[0;34m.\u001b[0m\u001b[0mwith_traceback\u001b[0m\u001b[0;34m(\u001b[0m\u001b[0mfiltered_tb\u001b[0m\u001b[0;34m)\u001b[0m \u001b[0;32mfrom\u001b[0m \u001b[0;32mNone\u001b[0m\u001b[0;34m\u001b[0m\u001b[0;34m\u001b[0m\u001b[0m\n\u001b[0m\u001b[1;32m     68\u001b[0m     \u001b[0;32mfinally\u001b[0m\u001b[0;34m:\u001b[0m\u001b[0;34m\u001b[0m\u001b[0;34m\u001b[0m\u001b[0m\n\u001b[1;32m     69\u001b[0m       \u001b[0;32mdel\u001b[0m \u001b[0mfiltered_tb\u001b[0m\u001b[0;34m\u001b[0m\u001b[0;34m\u001b[0m\u001b[0m\n",
      "\u001b[0;32m/anaconda/envs/azureml_py38_PT_TF/lib/python3.8/site-packages/keras/backend.py\u001b[0m in \u001b[0;36mrnn\u001b[0;34m(step_function, inputs, initial_states, go_backwards, mask, constants, unroll, input_length, time_major, zero_output_for_mask)\u001b[0m\n\u001b[1;32m   4741\u001b[0m         \u001b[0;32mreturn\u001b[0m \u001b[0;34m(\u001b[0m\u001b[0mtime\u001b[0m \u001b[0;34m+\u001b[0m \u001b[0;36m1\u001b[0m\u001b[0;34m,\u001b[0m \u001b[0moutput_ta_t\u001b[0m\u001b[0;34m)\u001b[0m \u001b[0;34m+\u001b[0m \u001b[0mtuple\u001b[0m\u001b[0;34m(\u001b[0m\u001b[0mnew_states\u001b[0m\u001b[0;34m)\u001b[0m\u001b[0;34m\u001b[0m\u001b[0;34m\u001b[0m\u001b[0m\n\u001b[1;32m   4742\u001b[0m \u001b[0;34m\u001b[0m\u001b[0m\n\u001b[0;32m-> 4743\u001b[0;31m       final_outputs = tf.compat.v1.while_loop(\n\u001b[0m\u001b[1;32m   4744\u001b[0m           \u001b[0mbody\u001b[0m\u001b[0;34m=\u001b[0m\u001b[0m_step\u001b[0m\u001b[0;34m,\u001b[0m\u001b[0;34m\u001b[0m\u001b[0;34m\u001b[0m\u001b[0m\n\u001b[1;32m   4745\u001b[0m           \u001b[0mloop_vars\u001b[0m\u001b[0;34m=\u001b[0m\u001b[0;34m(\u001b[0m\u001b[0mtime\u001b[0m\u001b[0;34m,\u001b[0m \u001b[0moutput_ta\u001b[0m\u001b[0;34m)\u001b[0m \u001b[0;34m+\u001b[0m \u001b[0mstates\u001b[0m\u001b[0;34m,\u001b[0m\u001b[0;34m\u001b[0m\u001b[0;34m\u001b[0m\u001b[0m\n",
      "\u001b[0;31mTypeError\u001b[0m: Exception encountered when calling layer \"lstm\" (type LSTM).\n\n\n\nCall arguments received:\n  • inputs=tf.Tensor(shape=(None, 336, 6), dtype=float32)\n  • mask=None\n  • training=None\n  • initial_state=None"
     ]
    }
   ],
   "source": [
    "power_real, power_pred, history, MODEL = experiment(X_train, y_train, X_test, timestep)\n",
    "\n",
    "loss = history.history['loss']\n",
    "val_loss = history.history['val_loss']"
   ]
  },
  {
   "cell_type": "code",
   "execution_count": null,
   "metadata": {},
   "outputs": [
    {
     "data": {
      "image/png": "[encoded data removed]",
      "text/plain": [
       "<Figure size 720x360 with 1 Axes>"
      ]
     },
     "metadata": {
      "needs_background": "light"
     },
     "output_type": "display_data"
    }
   ],
   "source": [
    "#plot validation and training convergence graph\n",
    "plt.figure(figsize=(10,5))\n",
    "plt.plot(loss, label='train')\n",
    "plt.plot(val_loss, label='validation')\n",
    "plt.legend()\n",
    "plt.xlabel('epochs')\n",
    "plt.ylabel('MSE')\n",
    "plt.title('LSTM Training Validation Loss')\n",
    "plt.tight_layout()\n",
    "plt.savefig('figures/train_val_plot.png')\n",
    "plt.show()"
   ]
  },
  {
   "cell_type": "code",
   "execution_count": null,
   "metadata": {},
   "outputs": [],
   "source": [
    "x_plot = test[timestep:].index\n",
    "pred_df = pd.DataFrame({'Date':x_plot, 'Prediction': power_pred, 'True': power_real})\n",
    "pred_df.set_index('Date', inplace=True)"
   ]
  },
  {
   "cell_type": "code",
   "execution_count": null,
   "metadata": {},
   "outputs": [],
   "source": [
    "pred_df2 = pred_df['2018-12-15 01:00:00\t':'2018-12-29 02:00:00 ']"
   ]
  },
  {
   "cell_type": "code",
   "execution_count": null,
   "metadata": {},
   "outputs": [
    {
     "data": {
      "image/png": "[encoded data removed]",
      "text/plain": [
       "<Figure size 720x360 with 1 Axes>"
      ]
     },
     "metadata": {
      "needs_background": "light"
     },
     "output_type": "display_data"
    }
   ],
   "source": [
    "#plot predictions\n",
    "pred_df2.plot(rot='60',figsize=(10,5))\n",
    "plt.title('Predicted Power vs Actual Power with LSTM an Model.')\n",
    "plt.ylabel('Power(KWh)')\n",
    "plt.tight_layout()\n",
    "plt.savefig('figures/prediction.png')\n",
    "plt.show()"
   ]
  },
  {
   "cell_type": "code",
   "execution_count": null,
   "metadata": {},
   "outputs": [
    {
     "name": "stdout",
     "output_type": "stream",
     "text": [
      "RMSE: 555.05\n",
      "MAE: 399.47\n",
      "R2: 0.83\n"
     ]
    }
   ],
   "source": [
    "#compute metrics\n",
    "rmse = np.sqrt(mean_squared_error(pred_df2['True'], pred_df2['Prediction']))\n",
    "mae = mean_absolute_error(pred_df2['True'], pred_df2['Prediction'])\n",
    "r2 = r2_score(pred_df2['True'], pred_df2['Prediction'])\n",
    "print('RMSE: {}\\nMAE: {}\\nR2: {}'.format(round(rmse,2),round(mae,2), round(r2,2)))"
   ]
  },
  {
   "cell_type": "markdown",
   "metadata": {},
   "source": [
    "I decided to manually change the hyperparameters and record the results of the network to see the impact on the training and validation loss as well as making small adjustments to see the overall effect of the parameter. "
   ]
  },
  {
   "cell_type": "code",
   "execution_count": null,
   "metadata": {},
   "outputs": [],
   "source": [
    "# results = {'Test':[1,2,3,4,5,6,7,8,9,10,11,12,13,14,15,16,17,18,19,20,21,22],\n",
    "#            'sample_size':[0.25,0.25,0.25,0.5,0.5,0.5,0.5,0.5,0.5,0.5,0.5,0.5,0.5,1,1,1,1,1,1,1,1,1],\n",
    "#            'units':[8,8,8,8,8,12,16,16,16,32,32,32,32,64,64,32,32,32,32,32,32,32],\n",
    "#            'layers':[2,2,2,2,2,2,2,2,2,2,2,2,2,2,2,2,2,2,2,2,2,2],\n",
    "#            'drop_out':[0.2,0.2,0.1,0.1,0.1,0.1,0.1,0.05,0.05,0.05,0.05,0.05,0.05,0.05,0.05,0.05,0.05,0.05,0.05,0.05,0.05,0.05],\n",
    "#            'batch_size':[14,14,14,14,14,14,14,14,14,14,14,7,21,21,14,14,14,21,14,14,14,14],\n",
    "#            'learning_rate':[0.0001,0.0005,0.0005,0.0005,0.001,0.001,0.001,0.001,0.0005,0.0005,0.001,0.0005,0.0005,0.0005,0.0005,0.0005,0.001,0.0005,0.0005,0.0005,0.0005,0.0005],\n",
    "#            'epochs':[50,30,30,30,30,30,30,30,30,30,30,30,30,30,30,30,40,40,40,40,30,40],\n",
    "#            'RMSE':[689.87,603.55,577.52,525.36,507.46,484.93,478.51,477.91,489.13,476.17,478.19,487.14,479.56,535.83,497.55,487.31,498.46,535.63,496.71,493.76,496.2,496.35],\n",
    "#            'MAE':[544.42,509.95,476.48,381.44,370.11,342.71,343.28,348.48,332.21,334.14,344.09,349.62,336.19,394.55,343.45,320.26,328.72,389.17,337.31,334.41,338.35,342.69],\n",
    "#            'R2':['-','-','-','-','-','-','-','-',0.86,0.87,0.87,0.86,0.87,0.83,0.86,0.86,0.86,0.83,0.86,0.86,0.86,0.86]}"
   ]
  },
  {
   "cell_type": "code",
   "execution_count": null,
   "metadata": {},
   "outputs": [],
   "source": [
    "# results_df = pd.DataFrame(data=results)\n",
    "# results_df"
   ]
  }
 ],
 "metadata": {
  "kernelspec": {
   "display_name": "Python 3",
   "language": "python",
   "name": "python3"
  },
  "language_info": {
   "codemirror_mode": {
    "name": "ipython",
    "version": 3
   },
   "file_extension": ".py",
   "mimetype": "text/x-python",
   "name": "python",
   "nbconvert_exporter": "python",
   "pygments_lexer": "ipython3",
   "version": "3.8.1"
  }
 },
 "nbformat": 4,
 "nbformat_minor": 4
}
